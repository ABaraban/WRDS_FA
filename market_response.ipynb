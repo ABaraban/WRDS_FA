{
 "cells": [
  {
   "cell_type": "code",
   "execution_count": null,
   "metadata": {},
   "outputs": [],
   "source": [
    "def market_resp(p_private, p_market, value_add):\n",
    "    p_curr = p_market\n",
    "    profit = 0\n",
    "    while p_curr < p_private:\n",
    "        profit += p_private - p_curr\n",
    "        p_curr += x\n",
    "    return profit\n",
    "market_resp()"
   ]
  }
 ],
 "metadata": {
  "kernelspec": {
   "display_name": "Python 3",
   "language": "python",
   "name": "python3"
  },
  "language_info": {
   "codemirror_mode": {
    "name": "ipython",
    "version": 3
   },
   "file_extension": ".py",
   "mimetype": "text/x-python",
   "name": "python",
   "nbconvert_exporter": "python",
   "pygments_lexer": "ipython3",
   "version": "3.8.5"
  }
 },
 "nbformat": 4,
 "nbformat_minor": 4
}
