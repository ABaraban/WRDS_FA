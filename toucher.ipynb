{
 "cells": [
  {
   "cell_type": "code",
   "execution_count": 7,
   "id": "755a28d9-46e6-4fcf-854c-32d7fdf01c5c",
   "metadata": {
    "tags": []
   },
   "outputs": [
    {
     "name": "stdout",
     "output_type": "stream",
     "text": [
      "Touching: /scratch/harvard/abaraban/vanguard_orthogonal_basis.csv\n",
      "Touching: /scratch/harvard/abaraban/df_merged.csv\n",
      "All files in '/scratch/harvard/abaraban/' have been touched using shell command.\n"
     ]
    }
   ],
   "source": [
    "import os\n",
    "import subprocess\n",
    "\n",
    "# Define the directory you want to touch every file in\n",
    "directory_path = '/scratch/harvard/abaraban/'\n",
    "\n",
    "# Loop through all files in the directory\n",
    "for root, dirs, files in os.walk(directory_path):\n",
    "    for file_name in files:\n",
    "        file_path = os.path.join(root, file_name)\n",
    "        # Print the file being touched\n",
    "        print(f'Touching: {file_path}')\n",
    "        # Use the touch command to update the file timestamps\n",
    "        subprocess.run(['touch', file_path])\n",
    "\n",
    "print(f\"All files in '{directory_path}' have been touched using shell command.\")"
   ]
  },
  {
   "cell_type": "code",
   "execution_count": null,
   "id": "9235112a-1b30-4a3a-8f44-4d3fe755bee5",
   "metadata": {},
   "outputs": [],
   "source": []
  }
 ],
 "metadata": {
  "kernelspec": {
   "display_name": "my-jupyter-venv",
   "language": "python",
   "name": "my-jupyter-venv"
  },
  "language_info": {
   "codemirror_mode": {
    "name": "ipython",
    "version": 3
   },
   "file_extension": ".py",
   "mimetype": "text/x-python",
   "name": "python",
   "nbconvert_exporter": "python",
   "pygments_lexer": "ipython3",
   "version": "3.11.9"
  }
 },
 "nbformat": 4,
 "nbformat_minor": 5
}
