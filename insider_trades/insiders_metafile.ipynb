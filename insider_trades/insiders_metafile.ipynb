{
 "cells": [
  {
   "cell_type": "code",
   "execution_count": null,
   "id": "4f78d528-efc8-456e-819c-89edfa099277",
   "metadata": {},
   "outputs": [],
   "source": [
    "%run pull_insiders.ipynb\n",
    "\n",
    "%reset -f\n",
    "\n",
    "%run pull_prices.ipynb\n",
    "\n",
    "%reset -f\n",
    "\n",
    "%run pull_CRSP_etf_prices.ipynb\n",
    "\n",
    "%reset -f\n",
    "\n",
    "%run grand_merge.ipynb\n",
    "\n",
    "%reset -f\n",
    "\n",
    "%run analysis.ipynb"
   ]
  }
 ],
 "metadata": {
  "kernelspec": {
   "display_name": "Python 3 (ipykernel)",
   "language": "python",
   "name": "python3"
  },
  "language_info": {
   "codemirror_mode": {
    "name": "ipython",
    "version": 3
   },
   "file_extension": ".py",
   "mimetype": "text/x-python",
   "name": "python",
   "nbconvert_exporter": "python",
   "pygments_lexer": "ipython3",
   "version": "3.8.19"
  }
 },
 "nbformat": 4,
 "nbformat_minor": 5
}
