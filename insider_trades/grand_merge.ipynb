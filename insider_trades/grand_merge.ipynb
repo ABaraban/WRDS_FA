{
 "cells": [
  {
   "cell_type": "code",
   "execution_count": 1,
   "id": "bccd157e-8c43-45aa-af88-a81676b17eb3",
   "metadata": {},
   "outputs": [
    {
     "name": "stdout",
     "output_type": "stream",
     "text": [
      "<class 'pandas.core.frame.DataFrame'>\n",
      "RangeIndex: 9243955 entries, 0 to 9243954\n",
      "Data columns (total 33 columns):\n",
      " #   Column           Dtype         \n",
      "---  ------           -----         \n",
      " 0   dcn              string        \n",
      " 1   seqnum           int16         \n",
      " 2   personid         int32         \n",
      " 3   owner            category      \n",
      " 4   rolecode1        category      \n",
      " 5   rolecode2        category      \n",
      " 6   rolecode3        category      \n",
      " 7   rolecode4        category      \n",
      " 8   cname            category      \n",
      " 9   ticker           category      \n",
      " 10  sector           category      \n",
      " 11  industry         object        \n",
      " 12  trandate         datetime64[ns]\n",
      " 13  tprice           float64       \n",
      " 14  ownership        category      \n",
      " 15  cleanse          category      \n",
      " 16  acqdisp          category      \n",
      " 17  cusipi           object        \n",
      " 18  trandate_6mo     datetime64[ns]\n",
      " 19  trandate_6mo_1   datetime64[ns]\n",
      " 20  trandate_6mo_2   datetime64[ns]\n",
      " 21  cusip            category      \n",
      " 22  datadate         datetime64[ns]\n",
      " 23  price_adj        float64       \n",
      " 24  cusip_6mo        category      \n",
      " 25  datadate_6mo     datetime64[ns]\n",
      " 26  price_adj_6mo    float64       \n",
      " 27  cusip_6mo_1      category      \n",
      " 28  datadate_6mo_1   datetime64[ns]\n",
      " 29  price_adj_6mo_1  float64       \n",
      " 30  cusip_6mo_2      category      \n",
      " 31  datadate_6mo_2   datetime64[ns]\n",
      " 32  price_adj_6mo_2  float64       \n",
      "dtypes: category(15), datetime64[ns](8), float64(5), int16(1), int32(1), object(2), string(1)\n",
      "memory usage: 1.4+ GB\n"
     ]
    }
   ],
   "source": [
    "import pandas as pd\n",
    "from datetime import datetime\n",
    "import wrds\n",
    "\n",
    "insiders_df = pd.read_pickle(\"raw_insiders_pre_merge.pkl\")\n",
    "final_prices_df = pd.read_pickle(\"raw_prices.pkl\")\n",
    "\n",
    "insiders_df['trandate_6mo'] = insiders_df['trandate'] + pd.DateOffset(months=6)\n",
    "insiders_df['trandate_6mo_1'] = insiders_df['trandate'] + pd.DateOffset(months=6) +  pd.DateOffset(days=1)\n",
    "insiders_df['trandate_6mo_2'] = insiders_df['trandate'] + pd.DateOffset(months=6) +  pd.DateOffset(days=2)\n",
    "\n",
    "insiders_df = insiders_df.merge(final_prices_df,\n",
    "                                left_on=['cusipi', 'trandate'],\n",
    "                                right_on=['cusip', 'datadate'],\n",
    "                                how='left')\n",
    "\n",
    "insiders_df = insiders_df.merge(final_prices_df,\n",
    "                                left_on=['cusipi', 'trandate_6mo'],\n",
    "                                right_on=['cusip', 'datadate'],\n",
    "                                how='left',\n",
    "                                suffixes=('', '_6mo'))\n",
    "insiders_df = insiders_df.merge(final_prices_df,\n",
    "                                left_on=['cusipi', 'trandate_6mo_1'],\n",
    "                                right_on=['cusip', 'datadate'],\n",
    "                                how='left',\n",
    "                                suffixes=('', '_6mo_1'))\n",
    "insiders_df = insiders_df.merge(final_prices_df,\n",
    "                                left_on=['cusipi', 'trandate_6mo_2'],\n",
    "                                right_on=['cusip', 'datadate'],\n",
    "                                how='left',\n",
    "                                suffixes=('', '_6mo_2'))\n",
    "del final_prices_df\n",
    "insiders_df.info()\n"
   ]
  },
  {
   "cell_type": "code",
   "execution_count": 2,
   "id": "930961c4-4c25-4441-81e9-798979b2e13b",
   "metadata": {},
   "outputs": [],
   "source": [
    "def first_non_na(row, columns):\n",
    "    for col in columns:\n",
    "        if pd.notna(row[col]):\n",
    "            return row[col]\n",
    "    return None\n",
    "\n",
    "price_columns = ['price_adj_6mo', 'price_adj_6mo_1', 'price_adj_6mo_2']\n",
    "insiders_df['price_adj_6mo_cons'] = insiders_df.apply(lambda row: first_non_na(row, price_columns), axis=1)"
   ]
  },
  {
   "cell_type": "code",
   "execution_count": 3,
   "id": "aa2aa20c-4fd3-47c3-ac66-fedde886473a",
   "metadata": {},
   "outputs": [
    {
     "name": "stdout",
     "output_type": "stream",
     "text": [
      "<class 'pandas.core.frame.DataFrame'>\n",
      "RangeIndex: 9243955 entries, 0 to 9243954\n",
      "Data columns (total 34 columns):\n",
      " #   Column              Dtype         \n",
      "---  ------              -----         \n",
      " 0   dcn                 string        \n",
      " 1   seqnum              int16         \n",
      " 2   personid            int32         \n",
      " 3   owner               category      \n",
      " 4   rolecode1           category      \n",
      " 5   rolecode2           category      \n",
      " 6   rolecode3           category      \n",
      " 7   rolecode4           category      \n",
      " 8   cname               category      \n",
      " 9   ticker              category      \n",
      " 10  sector              category      \n",
      " 11  industry            object        \n",
      " 12  trandate            datetime64[ns]\n",
      " 13  tprice              float64       \n",
      " 14  ownership           category      \n",
      " 15  cleanse             category      \n",
      " 16  acqdisp             category      \n",
      " 17  cusipi              object        \n",
      " 18  trandate_6mo        datetime64[ns]\n",
      " 19  trandate_6mo_1      datetime64[ns]\n",
      " 20  trandate_6mo_2      datetime64[ns]\n",
      " 21  cusip               category      \n",
      " 22  datadate            datetime64[ns]\n",
      " 23  price_adj           float64       \n",
      " 24  cusip_6mo           category      \n",
      " 25  datadate_6mo        datetime64[ns]\n",
      " 26  price_adj_6mo       float64       \n",
      " 27  cusip_6mo_1         category      \n",
      " 28  datadate_6mo_1      datetime64[ns]\n",
      " 29  price_adj_6mo_1     float64       \n",
      " 30  cusip_6mo_2         category      \n",
      " 31  datadate_6mo_2      datetime64[ns]\n",
      " 32  price_adj_6mo_2     float64       \n",
      " 33  price_adj_6mo_cons  float64       \n",
      "dtypes: category(15), datetime64[ns](8), float64(6), int16(1), int32(1), object(2), string(1)\n",
      "memory usage: 1.4+ GB\n"
     ]
    }
   ],
   "source": [
    "insiders_df.info()"
   ]
  },
  {
   "cell_type": "code",
   "execution_count": 4,
   "id": "ed025e14-4f41-4ff0-bdbd-7e64ac5cf3b0",
   "metadata": {},
   "outputs": [],
   "source": [
    "insiders_df.dropna(subset=['price_adj', 'price_adj_6mo_cons'], inplace=True)"
   ]
  },
  {
   "cell_type": "code",
   "execution_count": 5,
   "id": "5c656ddd-dce3-4615-b550-af90e719a403",
   "metadata": {},
   "outputs": [
    {
     "name": "stdout",
     "output_type": "stream",
     "text": [
      "<class 'pandas.core.frame.DataFrame'>\n",
      "Index: 7834554 entries, 0 to 9243812\n",
      "Data columns (total 34 columns):\n",
      " #   Column              Dtype         \n",
      "---  ------              -----         \n",
      " 0   dcn                 string        \n",
      " 1   seqnum              int16         \n",
      " 2   personid            int32         \n",
      " 3   owner               category      \n",
      " 4   rolecode1           category      \n",
      " 5   rolecode2           category      \n",
      " 6   rolecode3           category      \n",
      " 7   rolecode4           category      \n",
      " 8   cname               category      \n",
      " 9   ticker              category      \n",
      " 10  sector              category      \n",
      " 11  industry            object        \n",
      " 12  trandate            datetime64[ns]\n",
      " 13  tprice              float64       \n",
      " 14  ownership           category      \n",
      " 15  cleanse             category      \n",
      " 16  acqdisp             category      \n",
      " 17  cusipi              object        \n",
      " 18  trandate_6mo        datetime64[ns]\n",
      " 19  trandate_6mo_1      datetime64[ns]\n",
      " 20  trandate_6mo_2      datetime64[ns]\n",
      " 21  cusip               category      \n",
      " 22  datadate            datetime64[ns]\n",
      " 23  price_adj           float64       \n",
      " 24  cusip_6mo           category      \n",
      " 25  datadate_6mo        datetime64[ns]\n",
      " 26  price_adj_6mo       float64       \n",
      " 27  cusip_6mo_1         category      \n",
      " 28  datadate_6mo_1      datetime64[ns]\n",
      " 29  price_adj_6mo_1     float64       \n",
      " 30  cusip_6mo_2         category      \n",
      " 31  datadate_6mo_2      datetime64[ns]\n",
      " 32  price_adj_6mo_2     float64       \n",
      " 33  price_adj_6mo_cons  float64       \n",
      "dtypes: category(15), datetime64[ns](8), float64(6), int16(1), int32(1), object(2), string(1)\n",
      "memory usage: 1.3+ GB\n"
     ]
    }
   ],
   "source": [
    "insiders_df.info()"
   ]
  },
  {
   "cell_type": "code",
   "execution_count": 6,
   "id": "6badf937-9922-43a6-8afb-1c3e050bdac9",
   "metadata": {},
   "outputs": [],
   "source": [
    "insiders_df['seqnum'] = insiders_df['seqnum'].astype('category')\n",
    "insiders_df['dcn'] = insiders_df['dcn'].astype('category')\n",
    "insiders_df['industry'] = insiders_df['industry'].astype('category')\n",
    "insiders_df.drop(columns=['price_adj_6mo', 'price_adj_6mo_1', 'price_adj_6mo_2',\n",
    "                          'datadate', 'datadate_6mo', 'datadate_6mo_1', 'datadate_6mo_2', \n",
    "                          'cusip_6mo', 'cusip_6mo_1', 'cusip_6mo_2'],\n",
    "                 inplace=True)\n",
    "\n",
    "insiders_df['total_ret_6mo'] = (insiders_df['price_adj_6mo_cons'] / insiders_df['price_adj']) - 1"
   ]
  },
  {
   "cell_type": "code",
   "execution_count": 7,
   "id": "fc65e011-5936-4256-bb68-20ea49c1b570",
   "metadata": {},
   "outputs": [
    {
     "name": "stdout",
     "output_type": "stream",
     "text": [
      "<class 'pandas.core.frame.DataFrame'>\n",
      "Index: 7834554 entries, 0 to 9243812\n",
      "Data columns (total 25 columns):\n",
      " #   Column              Dtype         \n",
      "---  ------              -----         \n",
      " 0   dcn                 category      \n",
      " 1   seqnum              category      \n",
      " 2   personid            int32         \n",
      " 3   owner               category      \n",
      " 4   rolecode1           category      \n",
      " 5   rolecode2           category      \n",
      " 6   rolecode3           category      \n",
      " 7   rolecode4           category      \n",
      " 8   cname               category      \n",
      " 9   ticker              category      \n",
      " 10  sector              category      \n",
      " 11  industry            category      \n",
      " 12  trandate            datetime64[ns]\n",
      " 13  tprice              float64       \n",
      " 14  ownership           category      \n",
      " 15  cleanse             category      \n",
      " 16  acqdisp             category      \n",
      " 17  cusipi              object        \n",
      " 18  trandate_6mo        datetime64[ns]\n",
      " 19  trandate_6mo_1      datetime64[ns]\n",
      " 20  trandate_6mo_2      datetime64[ns]\n",
      " 21  cusip               category      \n",
      " 22  price_adj           float64       \n",
      " 23  price_adj_6mo_cons  float64       \n",
      " 24  total_ret_6mo       float64       \n",
      "dtypes: category(15), datetime64[ns](4), float64(4), int32(1), object(1)\n",
      "memory usage: 905.3+ MB\n"
     ]
    }
   ],
   "source": [
    "insiders_df.info()"
   ]
  },
  {
   "cell_type": "code",
   "execution_count": 8,
   "id": "6182a105-5eed-4995-9284-36d37c057eb1",
   "metadata": {},
   "outputs": [
    {
     "name": "stdout",
     "output_type": "stream",
     "text": [
      "Loading library list...\n",
      "Done\n"
     ]
    }
   ],
   "source": [
    "import wrds\n",
    "\n",
    "etf_prices = pd.read_pickle(\"etf_prices.pkl\")\n",
    "db = wrds.Connection(wrds_username='asherbaraban')\n",
    "sector_etfs = {\n",
    "    '01': \"XLF\",  # Finance\n",
    "    '02': \"XLV\",  # Healthcare\n",
    "    '03': \"IYK\",  # Consumer Non-Durable\n",
    "    '04': \"XLY\",  # Consumer Services\n",
    "    '05': \"XHB\",  # Consumer Durables\n",
    "    '06': \"XLE\",  # Energy\n",
    "    '07': \"IYT\",  # Transportation\n",
    "    '08': \"XLK\",  # Technology\n",
    "    '09': \"XLB\",  # Basic Industries\n",
    "    '10': \"XLI\",  # Capital Goods\n",
    "    '11': \"XLU\",  # Public Utilities\n",
    "    '99' : \"VTI\",  # Miscellaneous\n",
    "    '00': \"VTI\",  # Not Classified\n",
    "}\n",
    "benchmark_tickers = sector_etfs.values()\n",
    "tickers_placeholder = ', '.join(f\"'{ticker}'\" for ticker in benchmark_tickers)\n",
    "query = f\"\"\"\n",
    "        SELECT \n",
    "            cusip,\n",
    "            datadate,\n",
    "            ajexdi,\n",
    "            trfd,\n",
    "            prccd,\n",
    "            tic\n",
    "        FROM \n",
    "            comp_na_daily_all.secd\n",
    "        WHERE \n",
    "            tic IN ({tickers_placeholder}) AND\n",
    "            datadate = '2023-10-02'\n",
    "    \"\"\"\n",
    "prices = db.raw_sql(query)\n",
    "\n",
    "ticker_to_cusip = prices.set_index('tic')['cusip'].to_dict()\n",
    "\n",
    "insiders_df['sector_ticker'] = insiders_df['sector'].map(sector_etfs)\n",
    "insiders_df['sector_ticker'].fillna(\"VTI\", inplace=True)\n",
    "insiders_df['sector_ticker'] = insiders_df['sector_ticker'].astype('category')\n",
    "insiders_df['sector_cusip'] = insiders_df['sector_ticker'].map(ticker_to_cusip).astype('category')\n",
    "insiders_df.to_pickle('merge_1.pkl')"
   ]
  },
  {
   "cell_type": "code",
   "execution_count": 9,
   "id": "0c9854de-73af-49cb-96cb-c50858507927",
   "metadata": {},
   "outputs": [],
   "source": [
    "insiders_df = pd.read_pickle('merge_1.pkl')"
   ]
  },
  {
   "cell_type": "code",
   "execution_count": 10,
   "id": "269eecd1-0f24-4e47-9471-9f97d6de3359",
   "metadata": {},
   "outputs": [],
   "source": [
    "insiders_df = insiders_df.merge(etf_prices,\n",
    "                                left_on=['trandate', 'sector_cusip'],\n",
    "                                right_on=['datadate','cusip'],\n",
    "                                how='left',\n",
    "                                suffixes=('', '_etf'))\n",
    "\n",
    "insiders_df = insiders_df.merge(etf_prices,\n",
    "                                left_on=['trandate_6mo', 'sector_cusip'],\n",
    "                                right_on=['datadate','cusip'],\n",
    "                                how='left',\n",
    "                                suffixes=('', '_etf_6mo'))\n",
    "\n",
    "insiders_df = insiders_df.merge(etf_prices,\n",
    "                                left_on=['trandate_6mo_1', 'sector_cusip'],\n",
    "                                right_on=['datadate','cusip'],\n",
    "                                how='left',\n",
    "                                suffixes=('', '_etf_6mo_1'))\n",
    "\n",
    "insiders_df = insiders_df.merge(etf_prices,\n",
    "                                left_on=['trandate_6mo_2', 'sector_cusip'],\n",
    "                                right_on=['datadate','cusip'],\n",
    "                                how='left',\n",
    "                                suffixes=('', '_etf_6mo_2'))\n",
    "\n",
    "price_columns = ['price_adj_etf_6mo', 'price_adj_etf_6mo_1', 'price_adj_etf_6mo_2']\n",
    "insiders_df['price_adj_6mo_etf'] = insiders_df.apply(lambda row: first_non_na(row, price_columns), axis=1)"
   ]
  },
  {
   "cell_type": "code",
   "execution_count": 11,
   "id": "41841a7a-58e7-4e4a-9eb3-59edaa7945b1",
   "metadata": {},
   "outputs": [],
   "source": [
    "insiders_df['etf_ret'] = (insiders_df['price_adj_6mo_etf'] / insiders_df['price_adj_etf']) - 1"
   ]
  },
  {
   "cell_type": "code",
   "execution_count": 12,
   "id": "d6b821f0-961a-41a3-adfd-90a3064b9388",
   "metadata": {},
   "outputs": [],
   "source": [
    "insiders_df['net_ret'] = insiders_df['total_ret_6mo'] - insiders_df['etf_ret']\n",
    "insiders_df.dropna(subset=['net_ret'], inplace=True)\n",
    "insiders_df.to_pickle('merge_etf_2.pkl')"
   ]
  },
  {
   "cell_type": "code",
   "execution_count": null,
   "id": "5d3475ee-0561-4124-89c8-ee023d94dc39",
   "metadata": {},
   "outputs": [],
   "source": [
    "df = pd.DataFrame({'pik': [1, 2, 3], 'pik_pe': [4, 5, 6], 'pik_se': [7, 8, 9]})\n",
    "years = [2020, 2021, 2022]\n",
    "\n",
    "df_expanded = df.assign(**{'year': [year for _ in range(len(df)) for year in years]}).explode('year').reset_index(drop=True)\n",
    "\n",
    "print(df_expanded)"
   ]
  }
 ],
 "metadata": {
  "kernelspec": {
   "display_name": "Python 3 (ipykernel)",
   "language": "python",
   "name": "python3"
  },
  "language_info": {
   "codemirror_mode": {
    "name": "ipython",
    "version": 3
   },
   "file_extension": ".py",
   "mimetype": "text/x-python",
   "name": "python",
   "nbconvert_exporter": "python",
   "pygments_lexer": "ipython3",
   "version": "3.8.19"
  }
 },
 "nbformat": 4,
 "nbformat_minor": 5
}
