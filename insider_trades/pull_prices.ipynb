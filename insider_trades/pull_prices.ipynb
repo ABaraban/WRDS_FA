{
 "cells": [
  {
   "cell_type": "code",
   "execution_count": 1,
   "id": "8272d72c-6f3e-4153-9802-387be88672bd",
   "metadata": {},
   "outputs": [
    {
     "name": "stdout",
     "output_type": "stream",
     "text": [
      "Loading library list...\n",
      "Done\n"
     ]
    }
   ],
   "source": [
    "import wrds\n",
    "import pandas as pd\n",
    "from datetime import datetime\n",
    "# import ray\n",
    "# import os\n",
    "\n",
    "# # Set environment variables for Modin and Ray\n",
    "# os.environ[\"MODIN_ENGINE\"] = \"ray\"\n",
    "# os.environ[\"__MODIN_AUTOIMPORT_PANDAS__\"] = \"1\"\n",
    "# # Look at the Ray documentation with respect to the Ray configuration suited to you most.\n",
    "# ray.init()\n",
    "\n",
    "def fetch_prices_for_dates(cusip_list, date_list):\n",
    "    print(\"Fetching\")\n",
    "    cusip_list_str = \"', '\".join(cusip_list)\n",
    "    date_list_str = \"', '\".join(pd.to_datetime(date_list).strftime('%Y-%m-%d'))\n",
    "    \n",
    "    query = f\"\"\"\n",
    "        SELECT \n",
    "            cusip,\n",
    "            datadate,\n",
    "            ajexdi,\n",
    "            prccd,\n",
    "            trfd,\n",
    "            secstat\n",
    "        FROM \n",
    "            comp_na_daily_all.secd\n",
    "        WHERE \n",
    "            cusip IN ('{cusip_list_str}') AND\n",
    "            datadate IN ('{date_list_str}')\n",
    "    \"\"\"\n",
    "    return db.raw_sql(query)\n",
    "\n",
    "def chunks(lst, n):\n",
    "    \"\"\"Yield successive n-sized chunks from lst.\"\"\"\n",
    "    for i in range(0, len(lst), n):\n",
    "        yield lst[i:i + n]\n",
    "        \n",
    "def first_non_na(row, columns):\n",
    "    for col in columns:\n",
    "        if pd.notna(row[col]):\n",
    "            return row[col]\n",
    "    return None\n",
    "\n",
    "def downcast_numeric_columns(df):\n",
    "    \"\"\"\n",
    "    Downcast numerical columns in a pandas DataFrame to reduce memory usage.\n",
    "    \n",
    "    Parameters:\n",
    "    df (pd.DataFrame): The input DataFrame to downcast.\n",
    "    \n",
    "    Returns:\n",
    "    pd.DataFrame: DataFrame with downcasted numeric columns.\n",
    "    \"\"\"\n",
    "    # Downcast integer columns\n",
    "    int_cols = df.select_dtypes(include=['int', 'int64']).columns\n",
    "    df[int_cols] = df[int_cols].apply(pd.to_numeric, downcast='integer')\n",
    "    \n",
    "    # Downcast float columns\n",
    "    float_cols = df.select_dtypes(include=['float', 'float64']).columns\n",
    "    df[float_cols] = df[float_cols].apply(pd.to_numeric, downcast='float')\n",
    "    \n",
    "    return df\n",
    "\n",
    "\n",
    "# Establish a connection to the WRDS database\n",
    "db = wrds.Connection(wrds_username='asherbaraban')"
   ]
  },
  {
   "cell_type": "code",
   "execution_count": 2,
   "id": "6dc70dca-4598-4d21-9004-64a99b7016da",
   "metadata": {},
   "outputs": [
    {
     "name": "stdout",
     "output_type": "stream",
     "text": [
      "14049\n",
      "2024-09-09 11:52:08.449760\n",
      "Loading library list...\n",
      "Done\n",
      "Processing chunk 1/5\n",
      "Fetching\n",
      "Chunk 1 processed in: 0:08:43.554274\n",
      "Loading library list...\n",
      "Done\n",
      "Processing chunk 2/5\n",
      "Fetching\n",
      "Chunk 2 processed in: 0:07:08.980883\n",
      "Loading library list...\n",
      "Done\n",
      "Processing chunk 3/5\n",
      "Fetching\n",
      "Chunk 3 processed in: 0:07:19.454416\n",
      "Loading library list...\n",
      "Done\n",
      "Processing chunk 4/5\n",
      "Fetching\n",
      "Chunk 4 processed in: 0:08:35.530407\n",
      "Loading library list...\n",
      "Done\n",
      "Processing chunk 5/5\n",
      "Fetching\n",
      "Chunk 5 processed in: 0:04:56.490418\n",
      "Data fetched in: 0:36:55.030664\n",
      "Total rows fetched: 69600435\n",
      "       cusip   datadate     ajexdi   prccd      trfd secstat\n",
      "0  000361105 1986-01-02   3.375000  26.125  1.049973       A\n",
      "1  000781104 1986-01-02   6.000000  12.750  1.085128       I\n",
      "2  000872309 1986-01-02   0.600000   2.688       NaN       I\n",
      "3  000886309 1986-01-02  10.285711  21.250  1.000000       I\n",
      "4  001030105 1986-01-02   1.000000  15.250       NaN       I\n"
     ]
    }
   ],
   "source": [
    "insiders_df = pd.read_pickle(\"raw_insiders_pre_merge.pkl\")\n",
    "cusip_list = insiders_df['cusipi'].unique().tolist()\n",
    "trandate_list = insiders_df['trandate'].unique().tolist()\n",
    "\n",
    "# Generate the additional dates\n",
    "trandate_6mo_list = (insiders_df['trandate'] + pd.DateOffset(months=6)).unique().tolist()\n",
    "trandate_6mo_1d_list = (insiders_df['trandate'] + pd.DateOffset(months=6) +  pd.DateOffset(days=1)).unique().tolist()\n",
    "trandate_6mo_2d_list = (insiders_df['trandate'] + pd.DateOffset(months=6) +  pd.DateOffset(days=2)).unique().tolist()\n",
    "\n",
    "# Combine all date lists\n",
    "combined_date_list = list(set(trandate_list + trandate_6mo_list + trandate_6mo_1d_list + trandate_6mo_2d_list))\n",
    "print(len(combined_date_list))\n",
    "start_time = datetime.now()\n",
    "print(start_time)\n",
    "final_prices_df = pd.DataFrame()\n",
    "date_chunks = list(chunks(combined_date_list, 3000))\n",
    "\n",
    "for i, date_chunk in enumerate(date_chunks):\n",
    "    db = wrds.Connection(wrds_username='asherbaraban')\n",
    "    chunk_start_time = datetime.now()\n",
    "    print(f\"Processing chunk {i+1}/{len(date_chunks)}\")\n",
    "\n",
    "    chunk_prices_df = fetch_prices_for_dates(cusip_list, date_chunk)\n",
    "    chunk_prices_df['datadate'] = pd.to_datetime(chunk_prices_df['datadate'])\n",
    "    final_prices_df = pd.concat([final_prices_df, chunk_prices_df], ignore_index=True)\n",
    "\n",
    "    chunk_end_time = datetime.now()\n",
    "    print(f\"Chunk {i+1} processed in: {chunk_end_time - chunk_start_time}\")\n",
    "    db.close()\n",
    "\n",
    "end_time = datetime.now()\n",
    "print(f\"Data fetched in: {end_time - start_time}\")\n",
    "\n",
    "# Verify the concatenated DataFrame\n",
    "print(f\"Total rows fetched: {len(final_prices_df)}\")\n",
    "print(final_prices_df.head())\n",
    "\n"
   ]
  },
  {
   "cell_type": "code",
   "execution_count": 3,
   "id": "731179ab-f434-41db-aaef-485107143a82",
   "metadata": {},
   "outputs": [],
   "source": [
    "final_prices_df['trfd'].fillna(1, inplace=True)\n",
    "# final_prices_df.dropna(subset=['prccd'], inplace=True)\n",
    "final_prices_df['price_adj'] = (final_prices_df['prccd'] * final_prices_df['trfd']) / final_prices_df['ajexdi']\n",
    "final_prices_df.drop(columns = ['prccd', 'trfd', 'ajexdi'], inplace=True)\n",
    "final_prices_df['cusip'] = final_prices_df['cusip'].astype('category')\n",
    "final_prices_df.to_pickle(\"raw_prices.pkl\")"
   ]
  },
  {
   "cell_type": "code",
   "execution_count": 4,
   "id": "9fede41e-6550-416c-9f68-47c4e340cdee",
   "metadata": {},
   "outputs": [
    {
     "name": "stdout",
     "output_type": "stream",
     "text": [
      "<class 'pandas.core.frame.DataFrame'>\n",
      "RangeIndex: 69600435 entries, 0 to 69600434\n",
      "Data columns (total 4 columns):\n",
      " #   Column     Dtype         \n",
      "---  ------     -----         \n",
      " 0   cusip      category      \n",
      " 1   datadate   datetime64[ns]\n",
      " 2   secstat    object        \n",
      " 3   price_adj  float64       \n",
      "dtypes: category(1), datetime64[ns](1), float64(1), object(1)\n",
      "memory usage: 1.7+ GB\n"
     ]
    }
   ],
   "source": [
    "final_prices_df.info()"
   ]
  },
  {
   "cell_type": "code",
   "execution_count": 6,
   "id": "ad36bd6c-d1ee-47c4-86ab-7d58dcb33c19",
   "metadata": {},
   "outputs": [
    {
     "data": {
      "text/plain": [
       "array(['A', 'I'], dtype=object)"
      ]
     },
     "execution_count": 6,
     "metadata": {},
     "output_type": "execute_result"
    }
   ],
   "source": [
    "final_prices_df['secstat'].unique()"
   ]
  },
  {
   "cell_type": "code",
   "execution_count": 7,
   "id": "3ace9bba-0a1d-40e2-a956-98c063d04bfd",
   "metadata": {},
   "outputs": [
    {
     "data": {
      "text/html": [
       "<div>\n",
       "<style scoped>\n",
       "    .dataframe tbody tr th:only-of-type {\n",
       "        vertical-align: middle;\n",
       "    }\n",
       "\n",
       "    .dataframe tbody tr th {\n",
       "        vertical-align: top;\n",
       "    }\n",
       "\n",
       "    .dataframe thead th {\n",
       "        text-align: right;\n",
       "    }\n",
       "</style>\n",
       "<table border=\"1\" class=\"dataframe\">\n",
       "  <thead>\n",
       "    <tr style=\"text-align: right;\">\n",
       "      <th></th>\n",
       "      <th>cusip</th>\n",
       "      <th>datadate</th>\n",
       "      <th>secstat</th>\n",
       "      <th>price_adj</th>\n",
       "    </tr>\n",
       "  </thead>\n",
       "  <tbody>\n",
       "    <tr>\n",
       "      <th>1</th>\n",
       "      <td>000781104</td>\n",
       "      <td>1986-01-02</td>\n",
       "      <td>I</td>\n",
       "      <td>2.305897</td>\n",
       "    </tr>\n",
       "    <tr>\n",
       "      <th>2</th>\n",
       "      <td>000872309</td>\n",
       "      <td>1986-01-02</td>\n",
       "      <td>I</td>\n",
       "      <td>4.480000</td>\n",
       "    </tr>\n",
       "    <tr>\n",
       "      <th>3</th>\n",
       "      <td>000886309</td>\n",
       "      <td>1986-01-02</td>\n",
       "      <td>I</td>\n",
       "      <td>2.065973</td>\n",
       "    </tr>\n",
       "    <tr>\n",
       "      <th>4</th>\n",
       "      <td>001030105</td>\n",
       "      <td>1986-01-02</td>\n",
       "      <td>I</td>\n",
       "      <td>15.250000</td>\n",
       "    </tr>\n",
       "    <tr>\n",
       "      <th>5</th>\n",
       "      <td>001058205</td>\n",
       "      <td>1986-01-02</td>\n",
       "      <td>I</td>\n",
       "      <td>844.000000</td>\n",
       "    </tr>\n",
       "    <tr>\n",
       "      <th>...</th>\n",
       "      <td>...</td>\n",
       "      <td>...</td>\n",
       "      <td>...</td>\n",
       "      <td>...</td>\n",
       "    </tr>\n",
       "    <tr>\n",
       "      <th>69597953</th>\n",
       "      <td>G2426E104</td>\n",
       "      <td>2024-08-09</td>\n",
       "      <td>I</td>\n",
       "      <td>11.600000</td>\n",
       "    </tr>\n",
       "    <tr>\n",
       "      <th>69598626</th>\n",
       "      <td>25271C201</td>\n",
       "      <td>2024-08-09</td>\n",
       "      <td>I</td>\n",
       "      <td>14.630000</td>\n",
       "    </tr>\n",
       "    <tr>\n",
       "      <th>69599148</th>\n",
       "      <td>887133205</td>\n",
       "      <td>2024-08-09</td>\n",
       "      <td>I</td>\n",
       "      <td>0.087500</td>\n",
       "    </tr>\n",
       "    <tr>\n",
       "      <th>69599149</th>\n",
       "      <td>887133205</td>\n",
       "      <td>2024-08-09</td>\n",
       "      <td>I</td>\n",
       "      <td>0.110000</td>\n",
       "    </tr>\n",
       "    <tr>\n",
       "      <th>69599482</th>\n",
       "      <td>00484M700</td>\n",
       "      <td>2024-08-09</td>\n",
       "      <td>I</td>\n",
       "      <td>0.060000</td>\n",
       "    </tr>\n",
       "  </tbody>\n",
       "</table>\n",
       "<p>40883806 rows × 4 columns</p>\n",
       "</div>"
      ],
      "text/plain": [
       "              cusip   datadate secstat   price_adj\n",
       "1         000781104 1986-01-02       I    2.305897\n",
       "2         000872309 1986-01-02       I    4.480000\n",
       "3         000886309 1986-01-02       I    2.065973\n",
       "4         001030105 1986-01-02       I   15.250000\n",
       "5         001058205 1986-01-02       I  844.000000\n",
       "...             ...        ...     ...         ...\n",
       "69597953  G2426E104 2024-08-09       I   11.600000\n",
       "69598626  25271C201 2024-08-09       I   14.630000\n",
       "69599148  887133205 2024-08-09       I    0.087500\n",
       "69599149  887133205 2024-08-09       I    0.110000\n",
       "69599482  00484M700 2024-08-09       I    0.060000\n",
       "\n",
       "[40883806 rows x 4 columns]"
      ]
     },
     "execution_count": 7,
     "metadata": {},
     "output_type": "execute_result"
    }
   ],
   "source": [
    "final_prices_df[final_prices_df['secstat'] == 'I']"
   ]
  },
  {
   "cell_type": "code",
   "execution_count": 8,
   "id": "712d0d2e-2441-4643-ad5e-f35235b697b6",
   "metadata": {},
   "outputs": [
    {
     "data": {
      "text/plain": [
       "(69600435, 4)"
      ]
     },
     "execution_count": 8,
     "metadata": {},
     "output_type": "execute_result"
    }
   ],
   "source": [
    "final_prices_df.shape"
   ]
  },
  {
   "cell_type": "code",
   "execution_count": null,
   "id": "c8fc526d-ca66-412d-a124-c10e5a75e0cd",
   "metadata": {},
   "outputs": [],
   "source": []
  }
 ],
 "metadata": {
  "kernelspec": {
   "display_name": "Python 3 (ipykernel)",
   "language": "python",
   "name": "python3"
  },
  "language_info": {
   "codemirror_mode": {
    "name": "ipython",
    "version": 3
   },
   "file_extension": ".py",
   "mimetype": "text/x-python",
   "name": "python",
   "nbconvert_exporter": "python",
   "pygments_lexer": "ipython3",
   "version": "3.8.19"
  }
 },
 "nbformat": 4,
 "nbformat_minor": 5
}
