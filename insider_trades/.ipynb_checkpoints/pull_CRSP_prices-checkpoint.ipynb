{
 "cells": [
  {
   "cell_type": "code",
   "execution_count": 1,
   "id": "8272d72c-6f3e-4153-9802-387be88672bd",
   "metadata": {},
   "outputs": [],
   "source": [
    "import wrds\n",
    "import pandas as pd\n",
    "from datetime import datetime\n",
    "\n",
    "# Function to execute the query for each chunk\n",
    "def execute_chunk_query(values_list):\n",
    "    query = f\"\"\"\n",
    "        WITH cusip_dates AS (\n",
    "          VALUES\n",
    "            {values_list}\n",
    "        )\n",
    "        SELECT \n",
    "          cd.column1 AS cusip, \n",
    "          cd.column2 AS trandate,\n",
    "          cd.column2 + INTERVAL '6 months' AS end_date,\n",
    "          COALESCE(MIN(d.date), cd.column2) AS first_date, \n",
    "          COALESCE(MAX(d.date), cd.column2 + INTERVAL '6 months') AS last_date,\n",
    "          COUNT(d.ret) AS n_periods,\n",
    "          SUM(CASE WHEN d.ret IS NULL THEN 1 ELSE 0 END) AS n_miss,\n",
    "          COALESCE(MIN(d.ret), -99) AS min_ret,\n",
    "          COALESCE(MAX(d.ret), -99) AS max_ret,\n",
    "          COALESCE(EXP(SUM(LOG(1 + d.ret))) - 1, -99) AS cum_return,\n",
    "          d.permno\n",
    "        FROM cusip_dates cd\n",
    "        LEFT JOIN crspq.dsf d\n",
    "          ON d.cusip = cd.column1\n",
    "          AND d.date BETWEEN cd.column2 AND cd.column2 + INTERVAL '6 months'\n",
    "        GROUP BY cd.column1, cd.column2, d.permno;\n",
    "    \"\"\"\n",
    "    return db.raw_sql(query)\n",
    "\n",
    "def construct_values_list(df_chunk):\n",
    "    return \", \".join([f\"('{row['cusipi']}', '{row['trandate']}'::date)\" for _, row in df_chunk.iterrows()])\n",
    "\n",
    "def downcast_numeric_columns(df):\n",
    "    \"\"\"\n",
    "    Downcast numerical columns in a pandas DataFrame to reduce memory usage.\n",
    "    \n",
    "    Parameters:\n",
    "    df (pd.DataFrame): The input DataFrame to downcast.\n",
    "    \n",
    "    Returns:\n",
    "    pd.DataFrame: DataFrame with downcasted numeric columns.\n",
    "    \"\"\"\n",
    "    # Downcast integer columns\n",
    "    int_cols = df.select_dtypes(include=['int', 'int64']).columns\n",
    "    df[int_cols] = df[int_cols].apply(pd.to_numeric, downcast='integer')\n",
    "    \n",
    "    # Downcast float columns\n",
    "    float_cols = df.select_dtypes(include=['float', 'float64']).columns\n",
    "    df[float_cols] = df[float_cols].apply(pd.to_numeric, downcast='float')\n",
    "    \n",
    "    return df\n"
   ]
  },
  {
   "cell_type": "code",
   "execution_count": 2,
   "id": "6dc70dca-4598-4d21-9004-64a99b7016da",
   "metadata": {},
   "outputs": [
    {
     "name": "stdout",
     "output_type": "stream",
     "text": [
      "(2305361, 2)\n",
      "Loading library list...\n",
      "Done\n",
      "Chunk processed in: 0:05:03.059654\n",
      "Loading library list...\n",
      "Done\n",
      "Chunk processed in: 0:04:51.664306\n",
      "Loading library list...\n",
      "Done\n",
      "Chunk processed in: 0:04:29.444347\n",
      "Loading library list...\n",
      "Done\n",
      "Chunk processed in: 0:05:53.402869\n",
      "Loading library list...\n",
      "Done\n",
      "Chunk processed in: 0:03:49.559987\n",
      "Loading library list...\n",
      "Done\n",
      "Chunk processed in: 0:04:14.896606\n",
      "Loading library list...\n",
      "Done\n",
      "Chunk processed in: 0:03:41.791088\n",
      "Loading library list...\n",
      "Done\n",
      "Chunk processed in: 0:04:29.757734\n",
      "Loading library list...\n",
      "Done\n",
      "Chunk processed in: 0:04:33.212714\n",
      "Loading library list...\n",
      "Done\n",
      "Chunk processed in: 0:04:13.990212\n",
      "Loading library list...\n",
      "Done\n",
      "Chunk processed in: 0:03:58.788501\n",
      "Loading library list...\n",
      "Done\n",
      "Chunk processed in: 0:04:11.294153\n",
      "Loading library list...\n",
      "Done\n",
      "Chunk processed in: 0:04:14.494552\n",
      "Loading library list...\n",
      "Done\n",
      "Chunk processed in: 0:03:32.047160\n",
      "Loading library list...\n",
      "Done\n",
      "Chunk processed in: 0:03:46.066892\n",
      "Loading library list...\n",
      "Done\n",
      "Chunk processed in: 0:03:46.197791\n",
      "Loading library list...\n",
      "Done\n",
      "Chunk processed in: 0:03:20.262202\n",
      "Loading library list...\n",
      "Done\n",
      "Chunk processed in: 0:03:08.614746\n",
      "Loading library list...\n",
      "Done\n",
      "Chunk processed in: 0:03:41.111327\n",
      "Loading library list...\n",
      "Done\n",
      "Chunk processed in: 0:03:32.224772\n",
      "Loading library list...\n",
      "Done\n",
      "Chunk processed in: 0:03:18.478710\n",
      "Loading library list...\n",
      "Done\n",
      "Chunk processed in: 0:04:01.286179\n",
      "Loading library list...\n",
      "Done\n",
      "Chunk processed in: 0:03:51.746979\n",
      "Loading library list...\n",
      "Done\n",
      "Chunk processed in: 0:00:14.567218\n"
     ]
    }
   ],
   "source": [
    "insiders_df = pd.read_pickle(\"raw_insiders_pre_merge.pkl\")\n",
    "\n",
    "insiders_df = insiders_df[['trandate', 'cusipi']]\n",
    "insiders_df['cusipi'] = insiders_df['cusipi'].str[:8]\n",
    "insiders_df = insiders_df.drop_duplicates()\n",
    "print(insiders_df.shape)\n",
    "chunk_size = 100000\n",
    "\n",
    "final_prices_df = pd.DataFrame()\n",
    "for start in range(0, len(insiders_df), chunk_size):\n",
    "    chunk_start_time = datetime.now()\n",
    "    db = wrds.Connection(wrds_username='asherbaraban')\n",
    "    df_chunk = insiders_df[start:start + chunk_size]\n",
    "    values_list = construct_values_list(df_chunk)\n",
    "    \n",
    "    chunk_df = execute_chunk_query(values_list)\n",
    "    final_prices_df = pd.concat([final_prices_df, chunk_df], ignore_index=True)\n",
    "    chunk_end_time = datetime.now()\n",
    "    print(f\"Chunk processed in: {chunk_end_time - chunk_start_time}\")\n",
    "    db.close()\n"
   ]
  },
  {
   "cell_type": "code",
   "execution_count": 3,
   "id": "731179ab-f434-41db-aaef-485107143a82",
   "metadata": {},
   "outputs": [],
   "source": [
    "final_prices_df.to_pickle(\"raw_prices.pkl\")"
   ]
  },
  {
   "cell_type": "code",
   "execution_count": 5,
   "id": "c6e41ae4-d309-4492-8887-d4abe333d34a",
   "metadata": {},
   "outputs": [
    {
     "data": {
      "text/plain": [
       "341748"
      ]
     },
     "execution_count": 5,
     "metadata": {},
     "output_type": "execute_result"
    }
   ],
   "source": [
    "final_prices_df['permno'].isna().sum()"
   ]
  },
  {
   "cell_type": "code",
   "execution_count": 6,
   "id": "50aebfe5-4c31-4491-9d50-0b2a297c5271",
   "metadata": {},
   "outputs": [
    {
     "data": {
      "text/plain": [
       "347708"
      ]
     },
     "execution_count": 6,
     "metadata": {},
     "output_type": "execute_result"
    }
   ],
   "source": [
    "(final_prices_df['max_ret'] == -99).sum()"
   ]
  },
  {
   "cell_type": "code",
   "execution_count": 12,
   "id": "335ad5e5-10ea-48d6-947f-e170db48d595",
   "metadata": {},
   "outputs": [
    {
     "data": {
      "text/plain": [
       "0"
      ]
     },
     "execution_count": 12,
     "metadata": {},
     "output_type": "execute_result"
    }
   ],
   "source": [
    "(final_prices_df['n_periods'] == 0 & ~final_prices_df['permno'].isna()).sum()"
   ]
  },
  {
   "cell_type": "code",
   "execution_count": 13,
   "id": "c9a78aa5-e924-4a13-b90a-cd260bd411e9",
   "metadata": {},
   "outputs": [
    {
     "data": {
      "text/plain": [
       "count    2.305361e+06\n",
       "mean     1.060385e+02\n",
       "std      4.631915e+01\n",
       "min      0.000000e+00\n",
       "25%      1.250000e+02\n",
       "50%      1.260000e+02\n",
       "75%      1.280000e+02\n",
       "max      1.300000e+02\n",
       "Name: n_periods, dtype: float64"
      ]
     },
     "execution_count": 13,
     "metadata": {},
     "output_type": "execute_result"
    }
   ],
   "source": [
    "final_prices_df['n_periods'].describe()"
   ]
  },
  {
   "cell_type": "code",
   "execution_count": null,
   "id": "79999379-ac4a-4605-9a04-86dafbc71823",
   "metadata": {},
   "outputs": [],
   "source": []
  }
 ],
 "metadata": {
  "kernelspec": {
   "display_name": "Python 3 (ipykernel)",
   "language": "python",
   "name": "python3"
  },
  "language_info": {
   "codemirror_mode": {
    "name": "ipython",
    "version": 3
   },
   "file_extension": ".py",
   "mimetype": "text/x-python",
   "name": "python",
   "nbconvert_exporter": "python",
   "pygments_lexer": "ipython3",
   "version": "3.8.19"
  }
 },
 "nbformat": 4,
 "nbformat_minor": 5
}
